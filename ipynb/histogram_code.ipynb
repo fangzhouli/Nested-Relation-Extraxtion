{
  "nbformat": 4,
  "nbformat_minor": 0,
  "metadata": {
    "colab": {
      "name": "histogram_code.ipynb",
      "provenance": [],
      "collapsed_sections": []
    },
    "kernelspec": {
      "name": "python3",
      "display_name": "Python 3"
    }
  },
  "cells": [
    {
      "cell_type": "code",
      "metadata": {
        "id": "qF26TWu6Ki-9"
      },
      "source": [
        "import matplotlib.pyplot as plt\r\n",
        "\r\n",
        "def create_histogram(dataset):\r\n",
        "    counter = 0\r\n",
        "    percent_list = []\r\n",
        "    for sample in dataset:\r\n",
        "        counter += 1\r\n",
        "        labels = sample[\"labels\"]\r\n",
        "        num_elements = labels.numel()\r\n",
        "        percent_ones += labels.sum() / num_elements\r\n",
        "        percent_list.append(percent_ones)\r\n",
        "        \r\n",
        "    plt.hist(percent_list, bins=20)\r\n",
        "    plt.xlabel('Percent Positive Labels')\r\n",
        "    plt.ylabel('Count')\r\n",
        "    plt.show()"
      ],
      "execution_count": null,
      "outputs": []
    }
  ]
}