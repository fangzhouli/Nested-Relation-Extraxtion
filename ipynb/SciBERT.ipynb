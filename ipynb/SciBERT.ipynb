{
 "cells": [
  {
   "cell_type": "code",
   "execution_count": 167,
   "metadata": {},
   "outputs": [],
   "source": [
    "import torch\n",
    "import pandas as pd\n",
    "import numpy as np\n",
    "#import re\n",
    "#import nltk\n",
    "#nltk.download()\n",
    "\n",
    "from transformers import *\n",
    "import sys\n",
    "sys.path.append('../py')\n",
    "\n",
    "from bioinferdataset import BioInferDataset\n",
    "from config import XML_PATH, PREPPED_DATA_PATH"
   ]
  },
  {
   "cell_type": "code",
   "execution_count": null,
   "metadata": {},
   "outputs": [],
   "source": [
    "ber = \"../data/text_sentences.txt\"\n",
    "data = pd.read_csv(ber, delimiter='\\n', header=None)"
   ]
  },
  {
   "cell_type": "markdown",
   "metadata": {},
   "source": [
    "dataset = BioInferDataset(XML_PATH)\n",
    "\n",
    "dataset.load_samples_from_pickle(PREPPED_DATA_PATH)"
   ]
  },
  {
   "cell_type": "markdown",
   "metadata": {},
   "source": [
    "dataset.load_samples_from_pickle(PREPPED_DATA_PATH)"
   ]
  },
  {
   "cell_type": "code",
   "execution_count": 184,
   "metadata": {},
   "outputs": [],
   "source": [
    "sample = dataset.sample_list[0]\n",
    "bert_tokens = sample[\"bert_tokens\"]\n",
    "text = sample[\"text\"]\n",
    "mask = sample[\"mask\"]"
   ]
  },
  {
   "cell_type": "code",
   "execution_count": 199,
   "metadata": {},
   "outputs": [],
   "source": [
    "tokenizer = AutoTokenizer.from_pretrained('allenai/scibert_scivocab_uncased')\n",
    "def Bert_Tokens(sentence):\n",
    "        tokenized = tokenizer.encode_plus(\n",
    "                            text=sentence,  # the sentence to be encoded\n",
    "                            add_special_tokens=True,  # Add [CLS] and [SEP]\n",
    "#                             truncation=True,\n",
    "#                             max_length = 40,  # maximum length of a sentence\n",
    "#                             pad_to_max_length=True,  # Add [PAD]s\n",
    "                            is_split_into_words=True,\n",
    "#                             return_attention_mask = True,  # Generate the attention mask\n",
    "                            return_offsets_mapping=True,\n",
    "#                             return_length=True,\n",
    "                        )\n",
    "        return tokenized"
   ]
  },
  {
   "cell_type": "code",
   "execution_count": 196,
   "metadata": {},
   "outputs": [],
   "source": [
    "sentence = data[0][0]\n",
    "word_split_sentence = sentence.split(' ')"
   ]
  },
  {
   "cell_type": "code",
   "execution_count": 197,
   "metadata": {},
   "outputs": [],
   "source": [
    "results = Bert_Tokens(word_split_sentence)"
   ]
  },
  {
   "cell_type": "code",
   "execution_count": 200,
   "metadata": {},
   "outputs": [
    {
     "data": {
      "text/plain": [
       "{'input_ids': [102, 6010, 579, 1793, 12280, 9233, 6130, 579, 1793, 12280, 3354, 214, 9778, 2256, 131, 106, 6130, 579, 1793, 12280, 1375, 105, 579, 377, 1491, 1375, 1732, 1127, 205, 103], 'token_type_ids': [0, 0, 0, 0, 0, 0, 0, 0, 0, 0, 0, 0, 0, 0, 0, 0, 0, 0, 0, 0, 0, 0, 0, 0, 0, 0, 0, 0, 0, 0], 'attention_mask': [1, 1, 1, 1, 1, 1, 1, 1, 1, 1, 1, 1, 1, 1, 1, 1, 1, 1, 1, 1, 1, 1, 1, 1, 1, 1, 1, 1, 1, 1], 'offset_mapping': [(0, 0), (0, 5), (5, 6), (6, 9), (9, 13), (0, 8), (0, 4), (4, 5), (5, 8), (8, 12), (0, 9), (0, 2), (0, 10), (0, 9), (0, 2), (0, 1), (0, 4), (4, 5), (5, 8), (8, 12), (12, 13), (13, 14), (14, 15), (15, 19), (0, 6), (6, 7), (7, 10), (0, 7), (0, 1), (0, 0)]}"
      ]
     },
     "execution_count": 200,
     "metadata": {},
     "output_type": "execute_result"
    }
   ],
   "source": [
    "results"
   ]
  },
  {
   "cell_type": "code",
   "execution_count": 186,
   "metadata": {},
   "outputs": [
    {
     "name": "stdout",
     "output_type": "stream",
     "text": [
      "['[CLS]', 'alpha', '-', 'cat', '##enin', 'inhibits', 'beta', '-', 'cat', '##enin', 'signaling', 'by', 'preventing', 'formation', 'of', 'a', 'beta', '-', 'cat', '##enin', '*', 't', '-', 'cell', 'factor', '*', 'dna', 'complex', '.', '[SEP]']\n",
      "30\n"
     ]
    }
   ],
   "source": [
    "marked_text = \"[CLS] \" + text+ \" [SEP]\"\n",
    "# Tokenize our sentence with the BERT tokenizer.\n",
    "tokenized_text = tokenizer.tokenize(marked_text)\n",
    "tt = tokenized_text\n",
    "# Print out the tokens.\n",
    "print(tokenized_text)\n",
    "print(len(tokenized_text))"
   ]
  },
  {
   "cell_type": "code",
   "execution_count": 206,
   "metadata": {},
   "outputs": [],
   "source": [
    "def parse_bert(seq_original, seq_bert):\n",
    "    \"\"\"\n",
    "    \"\"\"\n",
    "\n",
    "    def remove_leading_pounds(token):\n",
    "        \"\"\"\n",
    "        \"\"\"\n",
    "        token_new = ''\n",
    "        for c in token:\n",
    "            if c != '#':\n",
    "                token_new += c\n",
    "        return token_new\n",
    "\n",
    "    # Remove header and footer tags.\n",
    "#     seq_bert = seq_bert[1:-1])\n",
    "    # Iterate over the original sequence and detect splitted tokens.\n",
    "    mapped_indices_list = []\n",
    "    j = 0\n",
    "    for i in range(len(seq_original)):\n",
    "        if seq_original[i] == seq_bert[j]:  # Not splitted.\n",
    "            j += 1\n",
    "            continue\n",
    "        else:  # Detect splitted tokens.\n",
    "            start = 0\n",
    "            token_splitted = seq_original[i]\n",
    "            token_mapping = remove_leading_pounds(seq_bert[j])\n",
    "            mapped_indices = []\n",
    "            while token_mapping == \\\n",
    "                    token_splitted[start : start + len(token_mapping)]:\n",
    "                mapped_indices.append(j)\n",
    "                start += len(token_mapping)\n",
    "                j += 1\n",
    "                token_mapping = remove_leading_pounds(seq_bert[j])\n",
    "            mapped_indices_list.append((i, mapped_indices))\n",
    "    return mapped_indices_list"
   ]
  },
  {
   "cell_type": "code",
   "execution_count": 207,
   "metadata": {},
   "outputs": [],
   "source": [
    "tokenizer = AutoTokenizer.from_pretrained(\n",
    "    'allenai/scibert_scivocab_uncased')\n",
    "\n",
    "text_test = data[0][0]\n",
    "seq_original = [w.lower() for w in data[0][0].split(' ')]\n",
    "seq_bert = tokenizer.tokenize(text_test )\n",
    "\n",
    "splits = parse_bert(seq_original, seq_bert)"
   ]
  },
  {
   "cell_type": "code",
   "execution_count": 15,
   "metadata": {},
   "outputs": [],
   "source": [
    "def Bert_New_Embedding(bert,split,shape):\n",
    "    '''\n",
    "    '''\n",
    "    print((split))\n",
    "    j=0\n",
    "    k=0\n",
    "    bert_new=torch.zeros([1,shape,768])\n",
    "    if len(split) != 0:\n",
    "        for i in range(len(split)):\n",
    "            while k< split[i][0]:\n",
    "                bert_new[:,k,:]=bert[:,j,:]\n",
    "                j += 1\n",
    "                k += 1\n",
    "            for p in range(len(split[i][1])):\n",
    "                j += 1\n",
    "\n",
    "            bert_new[:,k,:] = torch.sum(bert[:,split[i][1],:],dim = 1)/len(split[i][1])\n",
    "            k +=1\n",
    "        while k < shape:\n",
    "            bert_new[:,k,:]=bert[:,j,:]\n",
    "            j += 1\n",
    "            k += 1\n",
    "    else:\n",
    "        bert_new = bert\n",
    "        \n",
    "    return bert_new"
   ]
  },
  {
   "cell_type": "code",
   "execution_count": 16,
   "metadata": {},
   "outputs": [],
   "source": [
    "config = AutoConfig.from_pretrained('allenai/scibert_scivocab_uncased')\n",
    "model = AutoModel.from_pretrained('allenai/scibert_scivocab_uncased', config=config)\n",
    "with torch.no_grad():\n",
    "    outputs1 = model(input_ids,attention_mask )"
   ]
  },
  {
   "cell_type": "code",
   "execution_count": 178,
   "metadata": {},
   "outputs": [
    {
     "data": {
      "text/plain": [
       "tensor([[1, 1, 1, 1, 1, 1, 1, 1, 1, 1, 1, 1, 1, 1, 1, 1, 1, 1, 1, 1, 1, 1, 1, 1,\n",
       "         1, 1, 1, 1, 1, 1, 0, 0, 0, 0, 0, 0, 0, 0, 0, 0]])"
      ]
     },
     "execution_count": 178,
     "metadata": {},
     "output_type": "execute_result"
    }
   ],
   "source": [
    "attention_mask"
   ]
  },
  {
   "cell_type": "code",
   "execution_count": 179,
   "metadata": {},
   "outputs": [
    {
     "data": {
      "text/plain": [
       "tensor([[1, 1, 1, 1, 1, 1, 1, 1, 1, 1, 1, 1, 1, 1, 1, 1, 1, 1, 1, 1, 1, 1, 1, 1,\n",
       "         1, 1, 1, 1, 1, 1, 0, 0, 0, 0, 0, 0, 0, 0, 0, 0, 0, 0, 0, 0, 0, 0, 0, 0,\n",
       "         0, 0, 0, 0, 0, 0, 0, 0, 0, 0, 0, 0, 0, 0, 0, 0, 0, 0, 0, 0, 0, 0, 0, 0,\n",
       "         0, 0, 0, 0, 0, 0, 0, 0, 0, 0, 0, 0, 0, 0, 0, 0, 0, 0, 0, 0, 0, 0, 0, 0,\n",
       "         0, 0, 0, 0, 0, 0, 0, 0, 0, 0, 0, 0, 0, 0, 0, 0, 0, 0, 0, 0, 0, 0, 0, 0,\n",
       "         0, 0, 0, 0, 0, 0, 0, 0, 0, 0, 0, 0, 0, 0, 0, 0, 0, 0, 0, 0, 0, 0, 0, 0,\n",
       "         0, 0, 0]])"
      ]
     },
     "execution_count": 179,
     "metadata": {},
     "output_type": "execute_result"
    }
   ],
   "source": [
    "bert_tokens"
   ]
  },
  {
   "cell_type": "code",
   "execution_count": 190,
   "metadata": {},
   "outputs": [
    {
     "data": {
      "text/plain": [
       "torch.Size([1, 147])"
      ]
     },
     "execution_count": 190,
     "metadata": {},
     "output_type": "execute_result"
    }
   ],
   "source": [
    "mask"
   ]
  },
  {
   "cell_type": "code",
   "execution_count": 192,
   "metadata": {},
   "outputs": [
    {
     "name": "stdout",
     "output_type": "stream",
     "text": [
      "loading pretrained BERT...\n",
      "([tensor([[[ 2.9975e-01,  1.1368e-01, -3.7701e-04,  ..., -2.5679e-01,\n",
      "          -9.6255e-01, -6.1292e-01]],\n",
      "\n",
      "        [[ 4.2694e-02,  5.1686e-01, -1.6080e-01,  ..., -1.1505e+00,\n",
      "          -1.7851e+00, -6.7494e-01]],\n",
      "\n",
      "        [[ 2.0229e-02,  2.8722e-01, -2.1754e-01,  ..., -3.4749e-01,\n",
      "          -3.3012e-01,  6.4973e-01]],\n",
      "\n",
      "        ...,\n",
      "\n",
      "        [[ 6.0300e-01, -1.5243e-01, -9.8899e-01,  ..., -1.0068e+00,\n",
      "           5.4732e-01, -4.0833e-01]],\n",
      "\n",
      "        [[-1.2065e-01, -1.1065e+00, -2.5464e-01,  ...,  3.5409e-02,\n",
      "           8.4949e-01, -7.2837e-01]],\n",
      "\n",
      "        [[ 1.0213e+00,  4.8996e-01, -4.8651e-02,  ..., -1.8160e+00,\n",
      "          -1.1686e+00, -6.7990e-01]]], grad_fn=<PermuteBackward>)], [28])\n"
     ]
    }
   ],
   "source": [
    "bert_enc = BERTEncoder(output_bert_hidden_states=False)\n",
    "print(bert_enc.forward(bert_tokens.unsqueeze(0), mask.unsqueeze(0), text))"
   ]
  },
  {
   "cell_type": "code",
   "execution_count": 180,
   "metadata": {},
   "outputs": [
    {
     "data": {
      "text/plain": [
       "'alpha-catenin inhibits beta-catenin signaling by preventing formation of a beta-catenin*T-cell factor*DNA complex .'"
      ]
     },
     "execution_count": 180,
     "metadata": {},
     "output_type": "execute_result"
    }
   ],
   "source": [
    "text"
   ]
  },
  {
   "cell_type": "code",
   "execution_count": 211,
   "metadata": {},
   "outputs": [
    {
     "data": {
      "text/plain": [
       "torch.Size([1, 28, 768])"
      ]
     },
     "execution_count": 211,
     "metadata": {},
     "output_type": "execute_result"
    }
   ],
   "source": [
    "bert_out=outputs1[0]\n",
    "bert_out = bert_out[:,0:a,:]\n",
    "bert_out = bert_out[:,1:-1,:]\n",
    "bert_out.shape"
   ]
  },
  {
   "cell_type": "code",
   "execution_count": 212,
   "metadata": {},
   "outputs": [
    {
     "name": "stdout",
     "output_type": "stream",
     "text": [
      "[(0, [0, 1, 2, 3]), (2, [5, 6, 7, 8]), (9, [15, 16, 17, 18, 19, 20, 21, 22]), (10, [23, 24, 25])]\n"
     ]
    }
   ],
   "source": [
    "bert_out = Bert_New_Embedding(bert_out,splits,13)\n",
    "bert_out = bert_out.permute(1, 0, 2)"
   ]
  },
  {
   "cell_type": "code",
   "execution_count": 213,
   "metadata": {},
   "outputs": [],
   "source": [
    "torch.save(bert_out,'../data/unit_tests/bert_out.tensor')"
   ]
  },
  {
   "cell_type": "code",
   "execution_count": 201,
   "metadata": {},
   "outputs": [
    {
     "data": {
      "text/plain": [
       "[4, 1, 4, 1, 1, 1, 1, 1, 1, 8, 3, 1, 1]"
      ]
     },
     "execution_count": 201,
     "metadata": {},
     "output_type": "execute_result"
    }
   ],
   "source": [
    "bert_splits"
   ]
  },
  {
   "cell_type": "code",
   "execution_count": null,
   "metadata": {},
   "outputs": [],
   "source": []
  }
 ],
 "metadata": {
  "kernelspec": {
   "display_name": "Python 3",
   "language": "python",
   "name": "python3"
  },
  "language_info": {
   "codemirror_mode": {
    "name": "ipython",
    "version": 3
   },
   "file_extension": ".py",
   "mimetype": "text/x-python",
   "name": "python",
   "nbconvert_exporter": "python",
   "pygments_lexer": "ipython3",
   "version": "3.8.5"
  }
 },
 "nbformat": 4,
 "nbformat_minor": 4
}
